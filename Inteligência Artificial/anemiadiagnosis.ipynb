{
  "nbformat": 4,
  "nbformat_minor": 0,
  "metadata": {
    "colab": {
      "provenance": [],
      "toc_visible": true,
      "authorship_tag": "ABX9TyPMzPrtzgfiW8eSpToCY7my",
      "include_colab_link": true
    },
    "kernelspec": {
      "name": "python3",
      "display_name": "Python 3"
    },
    "language_info": {
      "name": "python"
    }
  },
  "cells": [
    {
      "cell_type": "markdown",
      "metadata": {
        "id": "view-in-github",
        "colab_type": "text"
      },
      "source": [
        "<a href=\"https://colab.research.google.com/github/jonhmaia/IA-e-Analise-de-Dados/blob/main/anemiadiagnosis.ipynb\" target=\"_parent\"><img src=\"https://colab.research.google.com/assets/colab-badge.svg\" alt=\"Open In Colab\"/></a>"
      ]
    },
    {
      "cell_type": "markdown",
      "source": [
        "#### **IMPPORTA TODAS A BIBLIOTECAS NECESSÁRIAS PARA IMPLEMENTAR O K-MEANS E A REGRESSÃO LOGÍSTICA**"
      ],
      "metadata": {
        "id": "OpnvWP4577NO"
      }
    },
    {
      "cell_type": "code",
      "source": [
        "import os\n",
        "import pandas as pd\n",
        "import os, sys\n",
        "import numpy as np\n",
        "from matplotlib import pyplot as plt\n",
        "import seaborn as sns\n",
        "from sklearn.linear_model import LogisticRegression\n",
        "from sklearn.model_selection import train_test_split\n",
        "from sklearn.metrics import confusion_matrix\n",
        "from sklearn.metrics import accuracy_score\n",
        "from sklearn.preprocessing import normalize\n",
        "import warnings\n",
        "\n",
        "\n",
        "data = pd.read_csv(\"anemia.csv\")\n",
        "print(data)\n"
      ],
      "metadata": {
        "id": "zV_IWdZ69w8v",
        "colab": {
          "base_uri": "https://localhost:8080/",
          "height": 0
        },
        "outputId": "69f6a6c9-c857-4e14-90f6-2395088e4220"
      },
      "execution_count": 410,
      "outputs": [
        {
          "output_type": "stream",
          "name": "stdout",
          "text": [
            "      Gender  Hemoglobin   MCH  MCHC   MCV  Result\n",
            "0          1        14.9  22.7  29.1  83.7       0\n",
            "1          0        15.9  25.4  28.3  72.0       0\n",
            "2          0         9.0  21.5  29.6  71.2       1\n",
            "3          0        14.9  16.0  31.4  87.5       0\n",
            "4          1        14.7  22.0  28.2  99.5       0\n",
            "...      ...         ...   ...   ...   ...     ...\n",
            "1416       0        10.6  25.4  28.2  82.9       1\n",
            "1417       1        12.1  28.3  30.4  86.9       1\n",
            "1418       1        13.1  17.7  28.1  80.7       1\n",
            "1419       0        14.3  16.2  29.5  95.2       0\n",
            "1420       0        11.8  21.2  28.4  98.1       1\n",
            "\n",
            "[1421 rows x 6 columns]\n"
          ]
        }
      ]
    },
    {
      "cell_type": "markdown",
      "source": [
        "\n",
        "#### ** MOSTRA O DATA SET E FAZ A VERIFICAÇÃO SE HÁ VALORES DUPLICADOS OU NULOS A FIM DE LIMPAR O DATA SET**\n"
      ],
      "metadata": {
        "id": "uRVC_fUqiZ2f"
      }
    },
    {
      "cell_type": "code",
      "source": [
        "counts = data['Result'].value_counts()\n",
        "data.info()\n",
        "data.count()\n",
        "print(counts)\n",
        "print(\"Há {} valores duplicados no dataset\".format(data.duplicated().sum()))\n",
        "print(\"Colunas de dados com valor nulo: \\n{}\".format(data.isnull().sum()))\n",
        "#1336 pra treino e 85 para testes\n",
        "# 620 positivos \n",
        "# 801 negativos"
      ],
      "metadata": {
        "colab": {
          "base_uri": "https://localhost:8080/",
          "height": 0
        },
        "id": "FoD6zYlp_hCC",
        "outputId": "80b558d2-4e2e-40d0-a5ce-1751c562beeb"
      },
      "execution_count": 389,
      "outputs": [
        {
          "output_type": "stream",
          "name": "stdout",
          "text": [
            "<class 'pandas.core.frame.DataFrame'>\n",
            "RangeIndex: 1421 entries, 0 to 1420\n",
            "Data columns (total 6 columns):\n",
            " #   Column      Non-Null Count  Dtype  \n",
            "---  ------      --------------  -----  \n",
            " 0   Gender      1421 non-null   int64  \n",
            " 1   Hemoglobin  1421 non-null   float64\n",
            " 2   MCH         1421 non-null   float64\n",
            " 3   MCHC        1421 non-null   float64\n",
            " 4   MCV         1421 non-null   float64\n",
            " 5   Result      1421 non-null   int64  \n",
            "dtypes: float64(4), int64(2)\n",
            "memory usage: 66.7 KB\n",
            "0    801\n",
            "1    620\n",
            "Name: Result, dtype: int64\n",
            "Há 887 valores duplicados no dataset\n",
            "Colunas de dados com valor nulo: \n",
            "Gender        0\n",
            "Hemoglobin    0\n",
            "MCH           0\n",
            "MCHC          0\n",
            "MCV           0\n",
            "Result        0\n",
            "dtype: int64\n"
          ]
        }
      ]
    },
    {
      "cell_type": "markdown",
      "source": [
        "#### **LIMPA AS COLUNAS DUPLICADAS E COM VALOR NULO**"
      ],
      "metadata": {
        "id": "sxNQW03siTbv"
      }
    },
    {
      "cell_type": "code",
      "source": [
        "duplicated = data[data.duplicated(keep=False)]\n",
        "duplicated = duplicated.sort_values(by=['Gender', \"Hemoglobin\", \"MCH\",'MCHC','MCV',\"Result\"], ascending= False) \n",
        "duplicated.head()\n",
        "data.drop_duplicates(inplace=True)\n",
        "print(\"Há {} valores duplicados no dataset\".format(data.duplicated().sum()))\n",
        "print(\"Colunas de dados com valor nulo: \\n{}\".format(data.isnull().sum()))"
      ],
      "metadata": {
        "colab": {
          "base_uri": "https://localhost:8080/",
          "height": 0
        },
        "id": "UjITtefub9Fd",
        "outputId": "a3d5fe55-422a-46eb-93fc-7af939a6044b"
      },
      "execution_count": 390,
      "outputs": [
        {
          "output_type": "stream",
          "name": "stdout",
          "text": [
            "Há 0 valores duplicados no dataset\n",
            "Colunas de dados com valor nulo: \n",
            "Gender        0\n",
            "Hemoglobin    0\n",
            "MCH           0\n",
            "MCHC          0\n",
            "MCV           0\n",
            "Result        0\n",
            "dtype: int64\n"
          ]
        }
      ]
    },
    {
      "cell_type": "code",
      "source": [
        "x = data.copy(deep=True)\n",
        "print(x.describe())"
      ],
      "metadata": {
        "colab": {
          "base_uri": "https://localhost:8080/",
          "height": 0
        },
        "id": "XE81eQsFca2e",
        "outputId": "310ee882-c740-4c89-8da5-d2e9115838ac"
      },
      "execution_count": 391,
      "outputs": [
        {
          "output_type": "stream",
          "name": "stdout",
          "text": [
            "           Gender  Hemoglobin         MCH        MCHC         MCV      Result\n",
            "count  534.000000  534.000000  534.000000  534.000000  534.000000  534.000000\n",
            "mean     0.522472   13.287079   22.911985   30.249438   85.647004    0.462547\n",
            "std      0.499963    2.066276    3.948482    1.412312    9.604934    0.499063\n",
            "min      0.000000    6.600000   16.000000   27.800000   69.400000    0.000000\n",
            "25%      0.000000   11.600000   19.500000   29.000000   77.325000    0.000000\n",
            "50%      1.000000   13.100000   22.750000   30.400000   85.450000    0.000000\n",
            "75%      1.000000   14.975000   26.100000   31.475000   94.150000    1.000000\n",
            "max      1.000000   16.900000   30.000000   32.500000  101.600000    1.000000\n"
          ]
        }
      ]
    },
    {
      "cell_type": "markdown",
      "source": [
        "#### **UNIFORMIZA OS DADOS**"
      ],
      "metadata": {
        "id": "LFn4pJa-jAVe"
      }
    },
    {
      "cell_type": "code",
      "source": [
        "s_list = [\"Gender\", \"Hemoglobin\", \"MCH\", \"MCHC\", \"MCV\"]\n",
        "res = \"Result\"\n",
        "\n",
        "def standartization(x):\n",
        "    x_std = x.copy(deep=True)\n",
        "    for column in s_list:\n",
        "        x_std[column] = (x_std[column]-x_std[column].mean())/x_std[column].std()\n",
        "    return x_std \n",
        "x_std=standartization(x)\n",
        "print(x_std.head())"
      ],
      "metadata": {
        "colab": {
          "base_uri": "https://localhost:8080/",
          "height": 0
        },
        "id": "79GQe10FcdMB",
        "outputId": "9bcafd4e-0ee0-4906-bcaf-cd87452af302"
      },
      "execution_count": 392,
      "outputs": [
        {
          "output_type": "stream",
          "name": "stdout",
          "text": [
            "     Gender  Hemoglobin       MCH      MCHC       MCV  Result\n",
            "0  0.955127    0.780594 -0.053688 -0.813870 -0.202709       0\n",
            "1 -1.045021    1.264556  0.630119 -1.380317 -1.420833       0\n",
            "2 -1.045021   -2.074785 -0.357602 -0.459841 -1.504123       1\n",
            "3 -1.045021    0.780594 -1.750542  0.814666  0.192921       0\n",
            "4  0.955127    0.683801 -0.230971 -1.451123  1.442279       0\n"
          ]
        }
      ]
    },
    {
      "cell_type": "markdown",
      "source": [
        "#### **SEPARA O TREINO E TESTE, SEPARANDO 20% DOS DADOS PARA TREINO E 80% PARA TREINO**"
      ],
      "metadata": {
        "id": "cCYuKYoVjSa1"
      }
    },
    {
      "cell_type": "code",
      "source": [
        "y = x[\"Result\"]\n",
        "y.shape\n",
        "x.drop(\"Result\", axis=1,inplace=True)\n",
        "x.head()\n",
        "xtrain,xtest, ytrain, ytest = train_test_split(x,y,test_size=0.2,random_state=42)\n"
      ],
      "metadata": {
        "id": "gPO0DUH9FMpm"
      },
      "execution_count": 393,
      "outputs": []
    },
    {
      "cell_type": "markdown",
      "source": [],
      "metadata": {
        "id": "HWsn6BB6lQrE"
      }
    },
    {
      "cell_type": "markdown",
      "source": [
        "\n",
        "#### **APLICA A TÉCNICA DA REGRESSÂO LOGÍSTICA**\n",
        "\n"
      ],
      "metadata": {
        "id": "AR3aJJEBj2pk"
      }
    },
    {
      "cell_type": "code",
      "source": [
        "logistic = LogisticRegression()\n",
        "logistic.fit(xtrain, ytrain)\n",
        "prediction=logistic.predict(xtest)\n",
        "a=logistic.decision_function(xtest)\n",
        "accuracy_scorelr = accuracy_score(ytest, prediction)\n"
      ],
      "metadata": {
        "id": "q2Lwixwn6wWu"
      },
      "execution_count": 412,
      "outputs": []
    },
    {
      "cell_type": "markdown",
      "source": [
        "#### **IMPORTA O K-MEANS E DEFINE O NÚMERO CLUSTERS QUE NO NOSSO CASO É 2**"
      ],
      "metadata": {
        "id": "7rKuW_cwkGOy"
      }
    },
    {
      "cell_type": "code",
      "source": [
        "from sklearn.cluster import KMeans\n",
        "\n",
        "# Gerar clusters pelo kmeans\n",
        "km = KMeans(n_clusters=2, random_state=0).fit(xtrain)"
      ],
      "metadata": {
        "id": "qG7d7M2ogOM-"
      },
      "execution_count": 414,
      "outputs": []
    },
    {
      "cell_type": "code",
      "source": [
        "real_c_y = []\n",
        "for idx, c in enumerate(km.cluster_centers_):\n",
        "  dist = np.linalg.norm(xtrain - c, axis=1)\n",
        "  real_c_y.append((idx, ytrain.iloc[np.where(dist == dist.min())[0][0]]))\n",
        "\n",
        "  del dist\n",
        "\n",
        "print(real_c_y)"
      ],
      "metadata": {
        "colab": {
          "base_uri": "https://localhost:8080/",
          "height": 0
        },
        "id": "kLoYNSIm6zum",
        "outputId": "1c8ffd33-2cce-49ac-c0ee-d33179ab4628"
      },
      "execution_count": 415,
      "outputs": [
        {
          "output_type": "stream",
          "name": "stdout",
          "text": [
            "[(0, 1), (1, 0)]\n"
          ]
        }
      ]
    },
    {
      "cell_type": "code",
      "source": [
        "result = km.predict(xtest)\n",
        "result_copy = result.copy()"
      ],
      "metadata": {
        "id": "nlvYo_LX62Ae"
      },
      "execution_count": 397,
      "outputs": []
    },
    {
      "cell_type": "code",
      "source": [
        "# Substituir os clusters formados pelo kmeans pelas classes reais\n",
        "for c in range(len(real_c_y),):\n",
        "  result[np.where(result_copy == c)[0]] = real_c_y[c][1]"
      ],
      "metadata": {
        "id": "D-Imk7cd632_"
      },
      "execution_count": 398,
      "outputs": []
    },
    {
      "cell_type": "code",
      "source": [
        "from sklearn.metrics import confusion_matrix as conf_matrix\n",
        "\n",
        "# Exibe a matriz de confusão\n",
        "conf_matrix(ytest, result)\n",
        "# Matriz de confusão\n",
        "logreg_best = LogisticRegression(C=74, penalty=\"l1\", solver=\"liblinear\")\n",
        "logreg_best.fit(xtrain, ytrain)\n",
        "print(\"Test accuracy: \",logreg_best.score(xtest, ytest))\n",
        "\n",
        "y_true = ytest\n",
        "y_pred = logreg_best.predict(xtest)\n",
        "\n",
        "cm = confusion_matrix(y_true, y_pred)\n",
        "f, ax = plt.subplots(figsize=(5,5))\n",
        "sns.heatmap(cm,fmt=\".0f\", annot=True,linewidths=0.2, linecolor=\"purple\", ax=ax)\n",
        "plt.xlabel(\"modelo previsto\")\n",
        "plt.ylabel(\"Valores reais\")\n",
        "plt.show()"
      ],
      "metadata": {
        "colab": {
          "base_uri": "https://localhost:8080/",
          "height": 390
        },
        "id": "DzqbG8JM67RR",
        "outputId": "0033794f-d873-43f9-b353-0088ffefe0c9"
      },
      "execution_count": 418,
      "outputs": [
        {
          "output_type": "stream",
          "name": "stderr",
          "text": [
            "/usr/local/lib/python3.8/dist-packages/sklearn/svm/_base.py:1206: ConvergenceWarning: Liblinear failed to converge, increase the number of iterations.\n",
            "  warnings.warn(\n"
          ]
        },
        {
          "output_type": "stream",
          "name": "stdout",
          "text": [
            "Test accuracy:  0.9906542056074766\n"
          ]
        },
        {
          "output_type": "display_data",
          "data": {
            "text/plain": [
              "<Figure size 360x360 with 2 Axes>"
            ],
            "image/png": "[encoded data removed]"
          },
          "metadata": {
            "needs_background": "light"
          }
        }
      ]
    },
    {
      "cell_type": "code",
      "source": [
        "# Mostra acurácia total da classificação\n",
        "correct_values = np.where(ytest == result)[0]\n",
        "print(\"Regressão linear: %.2f\" % (100*(correct_values.shape[0] / result.shape[0])) + \" %\")\n",
        "print(\"Regressão logística:%.2f \" % (accuracy_scorelr*100)+ \"%\" )\n",
        "\n",
        "del correct_values"
      ],
      "metadata": {
        "colab": {
          "base_uri": "https://localhost:8080/",
          "height": 0
        },
        "id": "s778HCW26-9o",
        "outputId": "1a08b1e3-2f78-4f90-d3bb-9de2b239a29b"
      },
      "execution_count": 409,
      "outputs": [
        {
          "output_type": "stream",
          "name": "stdout",
          "text": [
            "K-MEANS: 46.73 %\n",
            "Regressão logística:98.13 %\n"
          ]
        }
      ]
    }
  ]
}
